{
 "cells": [
  {
   "cell_type": "code",
   "execution_count": 31,
   "metadata": {},
   "outputs": [],
   "source": [
    "import sys\n",
    "import nltk\n",
    "import sklearn\n",
    "import random\n",
    "from nltk.corpus import movie_reviews"
   ]
  },
  {
   "cell_type": "code",
   "execution_count": 32,
   "metadata": {},
   "outputs": [
    {
     "name": "stdout",
     "output_type": "stream",
     "text": [
      "Number of docs: 2000\n",
      "First review: (['from', 'a', 'major', 'league', 'baseball', 'radio', 'broadcast', ',', 'featuring', 'play', '-', 'by', '-', 'play', 'man', 'harry', 'canary', 'and', 'color', 'man', 'whitey', 'hashbrown', ',', 'with', 'special', 'guest', 'commentator', 'james', 'berardinelli', '.', 'hc', ':', 'as', 'we', 'go', 'to', 'the', 'top', 'of', 'the', '8th', ',', 'we', \"'\", 're', 'joined', 'in', 'the', 'booth', 'by', 'film', 'critic', 'james', 'berardinelli', ',', 'who', \"'\", 's', 'here', 'fresh', 'from', 'seeing', 'the', 'new', 'baseball', 'movie', ',', 'major', 'league', ':', 'back', 'to', 'the', 'minors', ',', 'the', 'third', 'in', 'the', 'popular', 'saga', 'taking', 'a', 'lighter', 'look', 'at', 'the', 'majors', '.', 'nice', 'to', 'see', 'you', ',', 'jim', '.', 'as', 'a', 'big', 'baseball', 'fan', 'and', 'a', 'movie', 'reviewer', ',', 'can', 'you', 'give', 'us', 'the', 'scoop', 'on', 'the', 'new', 'flick', '?', 'jb', ':', 'my', 'opinion', ':', 'the', 'producers', 'should', 'have', 'stopped', 'while', 'they', 'were', 'ahead', ',', 'and', 'that', 'was', 'nine', 'years', 'ago', '.', 'one', 'entry', 'was', 'definitely', 'enough', ',', 'and', 'i', \"'\", 'm', 'surprised', 'there', 'was', 'a', 'third', 'after', 'the', 'anemic', 'showing', 'and', 'low', 'quality', 'of', 'major', 'league', '2', '.', 'this', 'latest', 'installment', 'has', 'all', 'the', 'earmarks', 'of', 'something', 'that', 'should', 'have', 'been', 'released', 'direct', '-', 'to', '-', 'video', '.', 'it', \"'\", 's', 'worse', 'than', 'a', 'mediocre', 'made', '-', 'for', '-', 'tv', 'feature', '.', 'i', 'should', 'also', 'mention', 'that', 'this', 'movie', 'likely', 'won', \"'\", 't', 'play', 'all', 'that', 'well', 'in', 'cleveland', '.', 'now', 'that', 'the', 'real', 'indians', 'are', 'perennial', 'contenders', ',', 'they', 'have', 'been', 'replaced', 'by', 'the', 'minnesota', 'twins', 'as', 'the', 'cinematic', 'sadsacks', '.', 'actually', ',', 'most', 'of', 'the', 'action', 'involves', 'the', 'twins', \"'\", 'aaa', 'minor', 'league', 'club', ',', 'the', 'buzz', ',', 'rather', 'than', 'the', 'actual', 'major', 'league', 'franchise', '.', 'hc', ':', 'sorry', 'to', 'interrupt', ',', 'jim', ',', 'but', 'we', 'still', 'have', 'to', 'do', 'play', '-', 'by', '-', 'play', 'for', 'the', 'game', 'on', 'the', 'field', '.', 'leading', 'off', 'this', 'inning', 'is', 'john', 'warren', '.', 'he', 'steps', 'into', 'the', 'batter', \"'\", 's', 'box', 'and', 'takes', 'kent', \"'\", 's', 'pitch', 'low', 'for', 'ball', 'one', '.', 'wh', ':', 'so', ',', 'the', 'story', \"'\", 's', 'strictly', 'minor', 'league', ',', 'right', '?', 'what', \"'\", 's', 'it', 'about', '?', 'jb', ':', 'scott', 'bakula', ',', 'the', 'guy', 'from', 'quantum', 'leap', ',', 'plays', 'career', 'minor', 'league', 'pitcher', 'gus', 'cantrell', '.', 'when', 'twins', 'owner', 'roger', 'dorn', ',', 'once', 'again', 'portrayed', 'by', 'corbin', 'bernsen', ',', 'needs', 'a', 'new', 'manager', 'for', 'his', 'aaa', 'team', ',', 'he', 'offers', 'the', 'job', 'to', 'gus', ',', 'who', 'is', 'now', 'faced', 'with', 'two', 'daunting', 'tasks', ':', 'turn', 'the', 'team', 'around', 'and', 'groom', 'hot', 'prospect', 'downtown', 'anderson', '(', 'played', 'by', 'walt', 'goggins', ')', 'for', 'a', 'promotion', 'to', '\"', 'the', 'show', '.', '\"', 'with', 'the', 'help', 'of', 'former', 'major', 'leaguers', 'pedro', 'cerrano', '(', 'dennis', 'haysbert', ')', ',', 'rube', 'baker', '(', 'eric', 'bruskotter', ')', ',', 'and', 'isuro', 'tanaka', '(', 'takaaki', 'ishibashi', ')', ',', 'gus', 'gets', 'the', 'buzz', 'on', 'the', 'right', 'track', '.', 'in', 'fact', ',', 'he', 'is', 'so', 'successful', 'that', 'he', 'earns', 'the', 'enmity', 'of', 'the', 'jealous', 'manager', 'of', 'the', 'big', '-', 'league', 'club', ',', 'leonard', 'huff', '(', 'played', 'with', 'over', '-', 'the', '-', 'top', 'relish', 'by', 'ted', 'mcginley', ')', '.', 'soon', ',', 'dorn', 'has', 'arranged', 'an', 'exhibition', 'game', 'that', 'pits', 'gus', \"'\", 'overachieving', 'group', 'against', 'huff', \"'\", 's', 'overpaid', ',', 'last', '-', 'place', 'bunch', '.', 'wh', ':', 'can', 'we', 'guess', 'who', 'wins', '?', 'jb', ':', 'the', 'results', 'have', 'all', 'the', 'suspense', 'of', 'watching', 'the', 'videotape', 'of', 'a', 'game', 'when', 'you', \"'\", 've', 'already', 'seen', 'the', 'box', 'score', '.', 'on', 'top', 'of', 'that', ',', 'none', 'of', 'the', 'mock', '-', 'ups', 'are', 'presented', 'with', 'much', 'flair', '.', 'they', \"'\", 're', 'not', 'just', 'boring', ';', 'they', \"'\", 're', 'lackluster', '.', 'but', 'the', 'major', 'league', 'movies', 'have', 'never', 'been', 'about', 'drama', 'or', 'tension', ';', 'they', \"'\", 've', 'been', 'about', 'using', 'baseball', 'situations', 'to', 'generate', 'laughs', '.', 'hc', ':', 'warren', 'fouls', 'off', 'a', 'fastball', '.', '1', 'and', '1', '.', 'wh', ':', 'are', 'there', 'lots', 'of', 'yuks', 'in', 'this', 'one', '?', 'jb', ':', 'not', 'one', ',', 'from', 'start', 'to', 'finish', '.', 'i', 'enjoyed', 'the', 'first', 'major', 'league', 'because', 'it', 'was', 'reasonably', 'fresh', 'and', 'funny', '.', 'okay', ',', 'a', 'lot', 'of', 'the', 'jokes', 'were', 'sophomoric', ',', 'but', 'they', 'made', 'me', 'laugh', '.', 'the', 'two', 'sequels', 'haven', \"'\", 't', 'just', 'been', 'stale', ',', 'but', 'their', 'humor', 'quotient', 'has', 'been', 'abysmally', 'low', '.', 'even', 'bob', 'uecker', \"'\", 's', 'once', '-', 'sharp', 'one', '-', 'liners', 'have', 'turned', 'lame', ',', 'and', 'they', \"'\", 're', 'the', 'closest', 'the', 'film', 'comes', 'to', 'being', 'even', 'vaguely', 'amusing', '.', 'hc', ':', 'here', \"'\", 's', 'the', '1', '-', '1', 'pitch', '.', 'looooooong', 'drive', '?', 'fair', 'or', 'foul', '?', 'foul', 'ball', '!', 'the', 'count', 'goes', 'to', '1', 'and', '2', '.', 'wh', ':', 'does', 'the', 'film', 'at', 'least', 'get', 'the', 'baseball', 'details', 'correct', '?', 'jb', ':', 'yes', '.', 'there', 'aren', \"'\", 't', 'any', 'glaring', 'errors', 'like', 'there', 'were', 'in', 'one', 'of', 'the', 'best', '-', 'ever', 'baseball', 'movies', ',', 'the', 'natural', '.', 'but', 'i', \"'\", 'd', 'gladly', 'trade', 'a', 'technically', 'accurate', 'film', 'for', 'one', 'with', 'a', 'good', 'story', ',', 'believable', 'characters', ',', 'or', 'even', 'a', 'little', 'genuine', 'humor', '.', 'heck', ',', 'the', 'naked', 'gun', 'is', 'a', 'better', 'baseball', 'comedy', 'than', 'major', 'league', ':', 'back', 'to', 'the', 'minors', '.', 'wh', ':', 'it', \"'\", 's', 'nice', 'to', 'see', 'old', 'friends', 'one', 'more', 'time', ',', 'isn', \"'\", 't', 'it', '?', 'like', 'cerrano', ',', 'tanaka', ',', 'and', 'dorn', '.', 'jb', ':', 'depends', 'on', 'whether', 'you', 'really', 'care', 'that', 'anyone', 'is', 'back', '.', 'there', 'aren', \"'\", 't', 'any', 'real', 'characters', 'here', '?', 'just', 'an', 'assortment', 'of', 'cliched', 'oddballs', '.', 'yeah', ',', 'the', 'voodoo', 'hitter', ',', 'the', 'catcher', 'who', 'can', \"'\", 't', 'throw', 'back', 'to', 'the', 'pitcher', ',', 'the', 'japanese', 'player', ',', 'and', 'the', 'conceited', 'player', '-', 'turned', '-', 'owner', 'have', 'all', 'returned', ',', 'but', 'who', 'really', 'cares', '?', 'they', 'have', 'no', 'depth', '.', 'notable', 'absences', 'include', 'tom', 'berenger', \"'\", 's', 'veteran', 'and', 'charlie', 'sheen', \"'\", 's', '\"', 'wild', 'thing', '.', '\"', 'we', 'don', \"'\", 't', 'really', 'miss', 'them', ',', 'though', '.', 'hc', ':', 'breaking', 'ball', ',', 'low', 'and', 'outside', '.', '2', 'and', '2', '.', 'wh', ':', 'so', 'you', \"'\", 're', 'saying', 'that', 'we', 'should', 'give', 'this', 'one', 'a', 'miss', '?', 'jb', ':', 'that', \"'\", 's', 'right', '.', 'to', 'use', 'baseball', 'terminology', ',', 'it', \"'\", 's', 'a', 'three', '-', 'pitch', 'strikeout', '.', 'if', 'you', \"'\", 're', 'looking', 'for', 'a', 'good', 'movie', 'that', 'involves', 'baseball', ',', 'try', 'popping', 'the', 'natural', ',', 'field', 'of', 'dreams', ',', 'bull', 'durham', ',', 'or', 'even', 'the', 'first', 'major', 'league', 'into', 'the', 'vcr', '.', 'actually', ',', 'this', 'is', 'an', 'oddly', '-', 'timed', 'release', ',', 'since', 'baseball', 'fans', 'are', 'likely', 'to', 'be', 'spending', 'more', 'time', 'in', 'parks', 'than', 'in', 'theaters', '.', 'even', 'the', 'minor', 'league', 'seasons', 'are', 'already', 'underway', '.', 'don', \"'\", 't', 'bother', 'with', 'major', 'league', ':', 'back', 'to', 'the', 'minors', '.', 'it', \"'\", 's', 'a', 'wretched', 'time', '-', 'waster', '.', 'wh', ':', 'thanks', 'for', 'the', 'advice', '.', 'jb', ':', 'you', \"'\", 're', 'welcome', '.', 'hc', ':', 'and', 'here', \"'\", 's', 'the', '2', '-', '2', 'pitch', '.', 'fouled', 'back', ',', 'right', 'into', 'this', 'booth', '.', 'hey', ',', 'jim', ',', 'heads', 'up', '!', 'oops', '.', 'somebody', 'better', 'get', 'him', 'some', 'ice', 'for', 'that', '.', 'he', 'may', 'be', 'good', 'at', 'deflecting', 'bad', 'baseball', 'movies', ',', 'but', 'he', 'needs', 'to', 'learn', 'not', 'to', 'duck', 'into', 'foul', 'balls', '.', 'odd', 'how', 'warren', 'seemed', 'to', 'aim', 'that', 'ball', 'right', 'at', 'him', ',', 'almost', 'as', 'if', 'he', 'has', 'a', 'grudge', 'to', 'settle', '.', 'anyway', ',', 'back', 'to', 'the', 'action', 'on', 'the', 'field', '?'], 'neg')\n",
      "\n",
      " Most common words: [(',', 77717), ('the', 76529), ('.', 65876), ('a', 38106), ('and', 35576), ('of', 34123), ('to', 31937), (\"'\", 30585), ('is', 25195), ('in', 21822), ('s', 18513), ('\"', 17612), ('it', 16107), ('that', 15924), ('-', 15595), (')', 11781), ('(', 11664), ('as', 11378), ('with', 10792), ('for', 9961)]\n",
      "\n",
      "Times happy used: 215\n",
      "Times worst used: 308\n"
     ]
    }
   ],
   "source": [
    "# Generating Dataset\n",
    "documents = [(list(movie_reviews.words(fileid)), category)\n",
    "           for category in movie_reviews.categories()\n",
    "           for fileid in movie_reviews.fileids(category)]\n",
    "\n",
    "# Shuffle in random order\n",
    "random.shuffle(documents)\n",
    "\n",
    "print('Number of docs: {}'.format(len(documents)))\n",
    "print('First review: {}'.format(documents[0]))\n",
    "\n",
    "all_words = [w.lower() for w in movie_reviews.words()]\n",
    "\n",
    "# Arrange words in descending order of frequency\n",
    "all_words = nltk.FreqDist(all_words)\n",
    "\n",
    "print('\\n Most common words: {}\\n'.format(all_words.most_common(20)))\n",
    "print('Times happy used: {}'.format(all_words['happy']))\n",
    "print('Times worst used: {}'.format(all_words['worst']))"
   ]
  },
  {
   "cell_type": "code",
   "execution_count": 33,
   "metadata": {},
   "outputs": [
    {
     "name": "stdout",
     "output_type": "stream",
     "text": [
      "39768\n"
     ]
    }
   ],
   "source": [
    "print(len(all_words))"
   ]
  },
  {
   "cell_type": "code",
   "execution_count": 34,
   "metadata": {},
   "outputs": [],
   "source": [
    "# Taking 4000 most common words as features\n",
    "word_features = list(all_words.keys())[:4000]"
   ]
  },
  {
   "cell_type": "code",
   "execution_count": 46,
   "metadata": {},
   "outputs": [
    {
     "name": "stdout",
     "output_type": "stream",
     "text": [
      "['plot', ':', 'two', 'teen', 'couples', 'go', 'to', 'a', 'church', 'party', ',', 'drink', 'and', 'then', 'drive', '.', 'they', 'get', 'into', 'an', 'accident', 'one', 'of', 'the', 'guys', 'dies', 'but', 'his', 'girlfriend', 'continues', 'see', 'him', 'in', 'her', 'life', 'has', 'nightmares', 'what', \"'\", 's', 'deal', '?', 'watch', 'movie', '\"', 'sorta', 'find', 'out', 'critique', 'mind', '-', 'fuck', 'for', 'generation', 'that', 'touches', 'on', 'very', 'cool', 'idea', 'presents', 'it', 'bad', 'package', 'which', 'is', 'makes', 'this', 'review', 'even', 'harder', 'write', 'since', 'i', 'generally', 'applaud', 'films', 'attempt', 'break', 'mold', 'mess', 'with', 'your', 'head', 'such', '(', 'lost', 'highway', '&', 'memento', ')', 'there', 'are', 'good', 'ways', 'making', 'all', 'types', 'these', 'folks', 'just', 'didn', 't', 'snag', 'correctly', 'seem', 'have', 'taken', 'pretty', 'neat', 'concept', 'executed', 'terribly', 'so', 'problems', 'well', 'its', 'main', 'problem', 'simply', 'too', 'jumbled', 'starts', 'off', 'normal', 'downshifts', 'fantasy', 'world', 'you', 'as', 'audience', 'member', 'no', 'going', 'dreams', 'characters', 'coming', 'back', 'from', 'dead', 'others', 'who', 'look', 'like', 'strange', 'apparitions', 'disappearances', 'looooot', 'chase', 'scenes', 'tons', 'weird', 'things', 'happen', 'most', 'not', 'explained', 'now', 'personally', 'don', 'trying', 'unravel', 'film', 'every', 'when', 'does', 'give', 'me', 'same', 'clue', 'over', 'again', 'kind', 'fed', 'up', 'after', 'while', 'biggest', 'obviously', 'got', 'big', 'secret', 'hide', 'seems', 'want', 'completely', 'until', 'final', 'five', 'minutes', 'do', 'make', 'entertaining', 'thrilling', 'or', 'engaging', 'meantime', 'really', 'sad', 'part', 'arrow', 'both', 'dig', 'flicks', 'we', 'actually', 'figured', 'by', 'half', 'way', 'point', 'strangeness', 'did', 'start', 'little', 'bit', 'sense', 'still', 'more', 'guess', 'bottom', 'line', 'movies', 'should', 'always', 'sure', 'before', 'given', 'password', 'enter', 'understanding', 'mean', 'showing', 'melissa', 'sagemiller', 'running', 'away', 'visions', 'about', '20', 'throughout', 'plain', 'lazy', '!', 'okay', 'people', 'chasing', 'know', 'need', 'how', 'giving', 'us', 'different', 'offering', 'further', 'insight', 'down', 'apparently', 'studio', 'took', 'director', 'chopped', 'themselves', 'shows', 'might', 've', 'been', 'decent', 'here', 'somewhere', 'suits', 'decided', 'turning', 'music', 'video', 'edge', 'would', 'actors', 'although', 'wes', 'bentley', 'seemed', 'be', 'playing', 'exact', 'character', 'he', 'american', 'beauty', 'only', 'new', 'neighborhood', 'my', 'kudos', 'holds', 'own', 'entire', 'feeling', 'unraveling', 'overall', 'doesn', 'stick', 'because', 'entertain', 'confusing', 'rarely', 'excites', 'feels', 'redundant', 'runtime', 'despite', 'ending', 'explanation', 'craziness', 'came', 'oh', 'horror', 'slasher', 'flick', 'packaged', 'someone', 'assuming', 'genre', 'hot', 'kids', 'also', 'wrapped', 'production', 'years', 'ago', 'sitting', 'shelves', 'ever', 'whatever', 'skip', 'where', 'joblo', 'nightmare', 'elm', 'street', '3', '7', '/', '10', 'blair', 'witch', '2', 'crow', '9', 'salvation', '4', 'stir', 'echoes', '8']\n"
     ]
    }
   ],
   "source": [
    "# Check how may selected features are present in each document\n",
    "def find_features(doc):\n",
    "    words = set(doc)\n",
    "    features = {}\n",
    "    \n",
    "    # Get if feature is present in doc\n",
    "    for w in word_features:\n",
    "        features[w] = (w in words)\n",
    "    \n",
    "    return features\n",
    "\n",
    "# Example\n",
    "features = find_features(movie_reviews.words('neg/cv000_29416.txt'))\n",
    "\n",
    "print([key for (key, value) in features.items() if value == True])"
   ]
  },
  {
   "cell_type": "code",
   "execution_count": 48,
   "metadata": {},
   "outputs": [],
   "source": [
    "# Creating i/p dataset\n",
    "feature_set = [(find_features(rev), category) for (rev, category) in documents]"
   ]
  },
  {
   "cell_type": "code",
   "execution_count": 49,
   "metadata": {},
   "outputs": [
    {
     "name": "stdout",
     "output_type": "stream",
     "text": [
      "1500\n",
      "500\n"
     ]
    }
   ],
   "source": [
    "# Generating train and test set\n",
    "from sklearn import model_selection\n",
    "\n",
    "train, test = model_selection.train_test_split(feature_set, test_size = 0.25, random_state = 1)\n",
    "\n",
    "print(len(train))\n",
    "print(len(test))"
   ]
  },
  {
   "cell_type": "code",
   "execution_count": 50,
   "metadata": {},
   "outputs": [],
   "source": [
    "from sklearn.svm import SVC\n",
    "from nltk.classify.scikitlearn import SklearnClassifier"
   ]
  },
  {
   "cell_type": "code",
   "execution_count": 56,
   "metadata": {},
   "outputs": [
    {
     "data": {
      "text/plain": [
       "<SklearnClassifier(SVC(C=1.0, break_ties=False, cache_size=200, class_weight=None, coef0=0.0,\n",
       "    decision_function_shape='ovr', degree=3, gamma='scale', kernel='sigmoid',\n",
       "    max_iter=-1, probability=False, random_state=None, shrinking=True,\n",
       "    tol=0.001, verbose=False))>"
      ]
     },
     "execution_count": 56,
     "metadata": {},
     "output_type": "execute_result"
    }
   ],
   "source": [
    "# Training the model\n",
    "model = SklearnClassifier(SVC(kernel = 'sigmoid'))\n",
    "model.train(train)"
   ]
  },
  {
   "cell_type": "code",
   "execution_count": 57,
   "metadata": {},
   "outputs": [
    {
     "name": "stdout",
     "output_type": "stream",
     "text": [
      "Accuracy: 0.84\n"
     ]
    }
   ],
   "source": [
    "# Testing the model\n",
    "accuracy = nltk.classify.accuracy(model, test)\n",
    "print('Accuracy: {}'.format(accuracy))"
   ]
  },
  {
   "cell_type": "code",
   "execution_count": null,
   "metadata": {},
   "outputs": [],
   "source": []
  }
 ],
 "metadata": {
  "kernelspec": {
   "display_name": "Python 3",
   "language": "python",
   "name": "python3"
  },
  "language_info": {
   "codemirror_mode": {
    "name": "ipython",
    "version": 3
   },
   "file_extension": ".py",
   "mimetype": "text/x-python",
   "name": "python",
   "nbconvert_exporter": "python",
   "pygments_lexer": "ipython3",
   "version": "3.7.6"
  }
 },
 "nbformat": 4,
 "nbformat_minor": 4
}
